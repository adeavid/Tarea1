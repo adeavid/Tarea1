{
 "cells": [
  {
   "cell_type": "code",
   "execution_count": 9,
   "id": "8c0de19f",
   "metadata": {},
   "outputs": [],
   "source": [
    "#Clase Iris Data"
   ]
  },
  {
   "cell_type": "code",
   "execution_count": 10,
   "id": "515968a8",
   "metadata": {},
   "outputs": [],
   "source": [
    "import pandas as pd\n",
    "\n",
    "class IrisData:\n",
    "    def __init__(self, filepath):\n",
    "        # Al instanciar un objeto, leer el archivo de datos y colocarlo en un dataframe interno\n",
    "        self.data = pd.read_csv(filepath)\n",
    "        self.current_index = 0\n",
    "    \n",
    "    def __iter__(self):\n",
    "        return self\n",
    "    \n",
    "    def __next__(self):\n",
    "        # Si los datos se han agotado\n",
    "        if self.current_index >= len(self.data):\n",
    "            print(\"error\")\n",
    "            raise StopIteration\n",
    "        \n",
    "        # Retornar los dos siguientes datos\n",
    "        next_data = self.data.iloc[self.current_index: self.current_index + 2]\n",
    "        self.current_index += 2\n",
    "        \n",
    "        return next_data\n"
   ]
  },
  {
   "cell_type": "code",
   "execution_count": 11,
   "id": "f1b8db88",
   "metadata": {},
   "outputs": [
    {
     "data": {
      "text/plain": [
       "[   Id  SepalLengthCm  SepalWidthCm  PetalLengthCm  PetalWidthCm      Species\n",
       " 0   1            5.1           3.5            1.4           0.2  Iris-setosa\n",
       " 1   2            4.9           3.0            1.4           0.2  Iris-setosa,\n",
       "    Id  SepalLengthCm  SepalWidthCm  PetalLengthCm  PetalWidthCm      Species\n",
       " 2   3            4.7           3.2            1.3           0.2  Iris-setosa\n",
       " 3   4            4.6           3.1            1.5           0.2  Iris-setosa,\n",
       "    Id  SepalLengthCm  SepalWidthCm  PetalLengthCm  PetalWidthCm      Species\n",
       " 4   5            5.0           3.6            1.4           0.2  Iris-setosa\n",
       " 5   6            5.4           3.9            1.7           0.4  Iris-setosa,\n",
       "    Id  SepalLengthCm  SepalWidthCm  PetalLengthCm  PetalWidthCm      Species\n",
       " 6   7            4.6           3.4            1.4           0.3  Iris-setosa\n",
       " 7   8            5.0           3.4            1.5           0.2  Iris-setosa,\n",
       "    Id  SepalLengthCm  SepalWidthCm  PetalLengthCm  PetalWidthCm      Species\n",
       " 8   9            4.4           2.9            1.4           0.2  Iris-setosa\n",
       " 9  10            4.9           3.1            1.5           0.1  Iris-setosa,\n",
       "     Id  SepalLengthCm  SepalWidthCm  PetalLengthCm  PetalWidthCm      Species\n",
       " 10  11            5.4           3.7            1.5           0.2  Iris-setosa\n",
       " 11  12            4.8           3.4            1.6           0.2  Iris-setosa,\n",
       "     Id  SepalLengthCm  SepalWidthCm  PetalLengthCm  PetalWidthCm      Species\n",
       " 12  13            4.8           3.0            1.4           0.1  Iris-setosa\n",
       " 13  14            4.3           3.0            1.1           0.1  Iris-setosa,\n",
       "     Id  SepalLengthCm  SepalWidthCm  PetalLengthCm  PetalWidthCm      Species\n",
       " 14  15            5.8           4.0            1.2           0.2  Iris-setosa\n",
       " 15  16            5.7           4.4            1.5           0.4  Iris-setosa,\n",
       "     Id  SepalLengthCm  SepalWidthCm  PetalLengthCm  PetalWidthCm      Species\n",
       " 16  17            5.4           3.9            1.3           0.4  Iris-setosa\n",
       " 17  18            5.1           3.5            1.4           0.3  Iris-setosa,\n",
       "     Id  SepalLengthCm  SepalWidthCm  PetalLengthCm  PetalWidthCm      Species\n",
       " 18  19            5.7           3.8            1.7           0.3  Iris-setosa\n",
       " 19  20            5.1           3.8            1.5           0.3  Iris-setosa]"
      ]
     },
     "execution_count": 11,
     "metadata": {},
     "output_type": "execute_result"
    }
   ],
   "source": [
    "# Instanciar y probar la clase\n",
    "iris_iter = IrisData('Iris.csv') \n",
    "iris_data_samples = []\n",
    "\n",
    "# Extraer 10 muestras (20 registros) para demostrar\n",
    "for _ in range(10):\n",
    "    iris_data_samples.append(next(iris_iter))\n",
    "\n",
    "iris_data_samples\n"
   ]
  },
  {
   "cell_type": "code",
   "execution_count": 12,
   "id": "7ebe99f5",
   "metadata": {},
   "outputs": [
    {
     "name": "stdout",
     "output_type": "stream",
     "text": [
      "error\n"
     ]
    },
    {
     "data": {
      "text/plain": [
       "[      Id  SepalLengthCm  SepalWidthCm  PetalLengthCm  PetalWidthCm  \\\n",
       " 146  147            6.3           2.5            5.0           1.9   \n",
       " 147  148            6.5           3.0            5.2           2.0   \n",
       " \n",
       "             Species  \n",
       " 146  Iris-virginica  \n",
       " 147  Iris-virginica  ,\n",
       "       Id  SepalLengthCm  SepalWidthCm  PetalLengthCm  PetalWidthCm  \\\n",
       " 148  149            6.2           3.4            5.4           2.3   \n",
       " 149  150            5.9           3.0            5.1           1.8   \n",
       " \n",
       "             Species  \n",
       " 148  Iris-virginica  \n",
       " 149  Iris-virginica  ]"
      ]
     },
     "execution_count": 12,
     "metadata": {},
     "output_type": "execute_result"
    }
   ],
   "source": [
    "# Instanciar la clase\n",
    "iris_iter = IrisData('Iris.csv') \n",
    "\n",
    "# Iterar hasta que se agoten los datos\n",
    "all_data = []\n",
    "\n",
    "while True:\n",
    "    try:\n",
    "        data_chunk = next(iris_iter)\n",
    "        all_data.append(data_chunk)\n",
    "    except StopIteration:\n",
    "        break\n",
    "\n",
    "# Mostrar los últimos 2 chunks de datos y verificar que son los últimos registros del DataFrame\n",
    "all_data[-2:]\n"
   ]
  }
 ],
 "metadata": {
  "kernelspec": {
   "display_name": "Python 3 (ipykernel)",
   "language": "python",
   "name": "python3"
  },
  "language_info": {
   "codemirror_mode": {
    "name": "ipython",
    "version": 3
   },
   "file_extension": ".py",
   "mimetype": "text/x-python",
   "name": "python",
   "nbconvert_exporter": "python",
   "pygments_lexer": "ipython3",
   "version": "3.11.4"
  }
 },
 "nbformat": 4,
 "nbformat_minor": 5
}
