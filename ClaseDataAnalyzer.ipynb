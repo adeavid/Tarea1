{
 "cells": [
  {
   "cell_type": "code",
   "execution_count": 8,
   "id": "6ebbe8da",
   "metadata": {},
   "outputs": [],
   "source": [
    "#Clase Data Analyzer"
   ]
  },
  {
   "cell_type": "code",
   "execution_count": 12,
   "id": "4dfb5b2e",
   "metadata": {},
   "outputs": [],
   "source": [
    "import pandas as pd\n",
    "import matplotlib.pyplot as plt\n",
    "\n",
    "class DataAnalyzer:\n",
    "    def __init__(self, filepath):\n",
    "        self.data = pd.read_csv(filepath)\n",
    "        \n",
    "    def basic_statistics(self):\n",
    "        # Calcular estadísticas descriptivas básicas para cada variable\n",
    "        return self.data.describe()\n",
    "    \n",
    "    def available_variables(self):\n",
    "        # Regresar los nombres de las columnas del dataframe\n",
    "        return self.data.columns.tolist()\n",
    "    \n",
    "    def variable_analysis(self, var_name):\n",
    "        # Verificar si la variable está en el dataframe\n",
    "        if var_name not in self.data.columns:\n",
    "            return f\"La variable {var_name} no se encuentra en el conjunto de datos.\"\n",
    "        \n",
    "        # Estadísticas básicas\n",
    "        mean = self.data[var_name].mean()\n",
    "        median = self.data[var_name].median()\n",
    "        std = self.data[var_name].std()\n",
    "        q25 = self.data[var_name].quantile(0.25)\n",
    "        q50 = self.data[var_name].quantile(0.50)\n",
    "        q75 = self.data[var_name].quantile(0.75)\n",
    "        \n",
    "        stats = {\n",
    "            \"media\": mean,\n",
    "            \"mediana\": median,\n",
    "            \"desviación\": std,\n",
    "            \"q25\": q25,\n",
    "            \"q50\": q50,\n",
    "            \"q75\": q75\n",
    "        }\n",
    "        \n",
    "        # Histograma de la distribución de la variable\n",
    "        plt.hist(self.data[var_name], bins=20, edgecolor=\"k\", alpha=0.7)\n",
    "        plt.title(f\"Distribución de {var_name}\")\n",
    "        plt.xlabel(var_name)\n",
    "        plt.ylabel(\"Frecuencia\")\n",
    "        plt.grid(True, linestyle=\"--\", alpha=0.7)\n",
    "        plt.show()\n",
    "        \n",
    "        return stats\n",
    "\n"
   ]
  },
  {
   "cell_type": "code",
   "execution_count": 14,
   "id": "38aa44cc",
   "metadata": {},
   "outputs": [
    {
     "data": {
      "text/html": [
       "<div>\n",
       "<style scoped>\n",
       "    .dataframe tbody tr th:only-of-type {\n",
       "        vertical-align: middle;\n",
       "    }\n",
       "\n",
       "    .dataframe tbody tr th {\n",
       "        vertical-align: top;\n",
       "    }\n",
       "\n",
       "    .dataframe thead th {\n",
       "        text-align: right;\n",
       "    }\n",
       "</style>\n",
       "<table border=\"1\" class=\"dataframe\">\n",
       "  <thead>\n",
       "    <tr style=\"text-align: right;\">\n",
       "      <th></th>\n",
       "      <th>Id</th>\n",
       "      <th>SepalLengthCm</th>\n",
       "      <th>SepalWidthCm</th>\n",
       "      <th>PetalLengthCm</th>\n",
       "      <th>PetalWidthCm</th>\n",
       "    </tr>\n",
       "  </thead>\n",
       "  <tbody>\n",
       "    <tr>\n",
       "      <th>count</th>\n",
       "      <td>150.000000</td>\n",
       "      <td>150.000000</td>\n",
       "      <td>150.000000</td>\n",
       "      <td>150.000000</td>\n",
       "      <td>150.000000</td>\n",
       "    </tr>\n",
       "    <tr>\n",
       "      <th>mean</th>\n",
       "      <td>75.500000</td>\n",
       "      <td>5.843333</td>\n",
       "      <td>3.054000</td>\n",
       "      <td>3.758667</td>\n",
       "      <td>1.198667</td>\n",
       "    </tr>\n",
       "    <tr>\n",
       "      <th>std</th>\n",
       "      <td>43.445368</td>\n",
       "      <td>0.828066</td>\n",
       "      <td>0.433594</td>\n",
       "      <td>1.764420</td>\n",
       "      <td>0.763161</td>\n",
       "    </tr>\n",
       "    <tr>\n",
       "      <th>min</th>\n",
       "      <td>1.000000</td>\n",
       "      <td>4.300000</td>\n",
       "      <td>2.000000</td>\n",
       "      <td>1.000000</td>\n",
       "      <td>0.100000</td>\n",
       "    </tr>\n",
       "    <tr>\n",
       "      <th>25%</th>\n",
       "      <td>38.250000</td>\n",
       "      <td>5.100000</td>\n",
       "      <td>2.800000</td>\n",
       "      <td>1.600000</td>\n",
       "      <td>0.300000</td>\n",
       "    </tr>\n",
       "    <tr>\n",
       "      <th>50%</th>\n",
       "      <td>75.500000</td>\n",
       "      <td>5.800000</td>\n",
       "      <td>3.000000</td>\n",
       "      <td>4.350000</td>\n",
       "      <td>1.300000</td>\n",
       "    </tr>\n",
       "    <tr>\n",
       "      <th>75%</th>\n",
       "      <td>112.750000</td>\n",
       "      <td>6.400000</td>\n",
       "      <td>3.300000</td>\n",
       "      <td>5.100000</td>\n",
       "      <td>1.800000</td>\n",
       "    </tr>\n",
       "    <tr>\n",
       "      <th>max</th>\n",
       "      <td>150.000000</td>\n",
       "      <td>7.900000</td>\n",
       "      <td>4.400000</td>\n",
       "      <td>6.900000</td>\n",
       "      <td>2.500000</td>\n",
       "    </tr>\n",
       "  </tbody>\n",
       "</table>\n",
       "</div>"
      ],
      "text/plain": [
       "               Id  SepalLengthCm  SepalWidthCm  PetalLengthCm  PetalWidthCm\n",
       "count  150.000000     150.000000    150.000000     150.000000    150.000000\n",
       "mean    75.500000       5.843333      3.054000       3.758667      1.198667\n",
       "std     43.445368       0.828066      0.433594       1.764420      0.763161\n",
       "min      1.000000       4.300000      2.000000       1.000000      0.100000\n",
       "25%     38.250000       5.100000      2.800000       1.600000      0.300000\n",
       "50%     75.500000       5.800000      3.000000       4.350000      1.300000\n",
       "75%    112.750000       6.400000      3.300000       5.100000      1.800000\n",
       "max    150.000000       7.900000      4.400000       6.900000      2.500000"
      ]
     },
     "execution_count": 14,
     "metadata": {},
     "output_type": "execute_result"
    }
   ],
   "source": [
    "# Instanciar el objeto DataAnalyzer\n",
    "analyzer = DataAnalyzer('Iris.csv') \n",
    "\n",
    "# Llamar al método basic statistics para obtener las estadisticas descriptivas de cada variable\n",
    "stats = analyzer.basic_statistics()\n",
    "stats"
   ]
  },
  {
   "cell_type": "code",
   "execution_count": 13,
   "id": "bb2208ee",
   "metadata": {},
   "outputs": [
    {
     "data": {
      "text/plain": [
       "['Id',\n",
       " 'SepalLengthCm',\n",
       " 'SepalWidthCm',\n",
       " 'PetalLengthCm',\n",
       " 'PetalWidthCm',\n",
       " 'Species']"
      ]
     },
     "execution_count": 13,
     "metadata": {},
     "output_type": "execute_result"
    }
   ],
   "source": [
    "# Instanciar el objeto DataAnalyzer\n",
    "analyzer = DataAnalyzer('Iris.csv') \n",
    "\n",
    "# Llamar al método available_variables para obtener los nombres de las variables disponibles\n",
    "variables = analyzer.available_variables()\n",
    "variables\n"
   ]
  },
  {
   "cell_type": "code",
   "execution_count": 10,
   "id": "e75c0126",
   "metadata": {},
   "outputs": [
    {
     "data": {
      "image/png": "[encoded data removed]",
      "text/plain": [
       "<Figure size 640x480 with 1 Axes>"
      ]
     },
     "metadata": {},
     "output_type": "display_data"
    },
    {
     "data": {
      "text/plain": [
       "{'media': 5.843333333333334,\n",
       " 'mediana': 5.8,\n",
       " 'desviación': 0.8280661279778629,\n",
       " 'q25': 5.1,\n",
       " 'q50': 5.8,\n",
       " 'q75': 6.4}"
      ]
     },
     "execution_count": 10,
     "metadata": {},
     "output_type": "execute_result"
    }
   ],
   "source": [
    "# Instanciar el objeto DataAnalyzer\n",
    "analyzer = DataAnalyzer('Iris.csv')  \n",
    "\n",
    "# Llamar al método variable_analysis para la variable 'SepalLengthCm'\n",
    "stats_sepal_length = analyzer.variable_analysis('SepalLengthCm')\n",
    "stats_sepal_length\n"
   ]
  }
 ],
 "metadata": {
  "kernelspec": {
   "display_name": "Python 3 (ipykernel)",
   "language": "python",
   "name": "python3"
  },
  "language_info": {
   "codemirror_mode": {
    "name": "ipython",
    "version": 3
   },
   "file_extension": ".py",
   "mimetype": "text/x-python",
   "name": "python",
   "nbconvert_exporter": "python",
   "pygments_lexer": "ipython3",
   "version": "3.11.4"
  }
 },
 "nbformat": 4,
 "nbformat_minor": 5
}
